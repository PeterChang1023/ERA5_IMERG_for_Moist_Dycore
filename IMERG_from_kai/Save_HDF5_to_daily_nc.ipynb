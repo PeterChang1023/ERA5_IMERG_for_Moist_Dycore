{
 "cells": [
  {
   "cell_type": "code",
   "execution_count": 5,
   "id": "66d30df0-5154-406d-8389-229d8a9d3fba",
   "metadata": {},
   "outputs": [
    {
     "name": "stderr",
     "output_type": "stream",
     "text": [
      "cdo    ydaymean: Processed 1 variable over 48 timesteps [1.40s 5011MB].\n",
      "cdo    setgrid: Processed 1 variable over 1 timestep [0.07s 5011MB].\n"
     ]
    },
    {
     "name": "stdout",
     "output_type": "stream",
     "text": [
      "cdo    remapbil: Bilinear weights from lonlat (3600x1800) to lonlat (576x360) grid, with source mask (6450076)\n",
      "Created daily NetCDF file: IMERG_20000601.nc\n",
      "Elapsed time: 14.459201335906982 seconds\n"
     ]
    }
   ],
   "source": [
    "import pandas as pd\n",
    "import numpy as np\n",
    "import os\n",
    "import xarray as xr\n",
    "import h5py\n",
    "import glob\n",
    "\n",
    "# Create a 30min datetime index and a daily datetime index\n",
    "dates       = pd.date_range(start=\"2000-06-01\", end=\"2023-08-31\", freq=\"30min\")\n",
    "dates_daily = pd.date_range(start=\"2000-06-01\", end=\"2023-08-31\", freq=\"D\")\n",
    "\n",
    "import time\n",
    "\n",
    "start_time = time.time()\n",
    "# Process one day as an example (remove slicing to process all days)\n",
    "# for i in range(1):\n",
    "for i in range(np.size(dates)):        \n",
    "    day_str = dates_daily[i].strftime(\"%Y%m%d\")\n",
    "    year  = dates_daily[i].year\n",
    "    month = dates_daily[i].month\n",
    "    day   = dates_daily[i].day\n",
    "\n",
    "    # Get indices for this day\n",
    "    posi = np.where((dates.year == year) & (dates.month == month) & (dates.day == day))[0]\n",
    "    \n",
    "    # Pre-allocate the daily precipitation array:\n",
    "    # The number of time steps is len(posi) (should be 48 for a full day)\n",
    "    # and the spatial dimensions are assumed to be 3600 x 1800.\n",
    "    precip_daily = np.zeros((len(posi), 1800, 3600))\n",
    "    \n",
    "    # Loop over each 30min time for this day\n",
    "    for count, j in enumerate(posi):\n",
    "        # Construct filename pattern; adjust the wildcard as needed.\n",
    "        filename = ('3B-HHR.MS.MRG.3IMERG.' +\n",
    "                    f\"{dates[j].year}{str(dates[j].month).zfill(2)}{str(dates[j].day).zfill(2)}\" +\n",
    "                    '-S' + f\"{str(dates[j].hour).zfill(2)}{str(dates[j].minute).zfill(2)}\" + '00-*')\n",
    "        pattern = '/work/DATA/Satellite/IMERG_HDF5/' + filename\n",
    "        \n",
    "        # Use glob to handle wildcards instead of os.popen(\"ls ...\")\n",
    "        file_list = glob.glob(pattern)\n",
    "        if not file_list:\n",
    "            print(f\"File does not exist for pattern: {pattern}\")\n",
    "            continue  # Skip if no file found\n",
    "        \n",
    "        # Take the first matching file\n",
    "        fpath = file_list[0]\n",
    "        #print(\"File exists:\", fpath)\n",
    "        with h5py.File(fpath, 'r') as f:\n",
    "            # Access datasets under 'Grid'\n",
    "            grid = f['Grid']\n",
    "            precip_data = grid['precipitation']\n",
    "            lat_data    = grid['lat']\n",
    "            lon_data    = grid['lon']\n",
    "            \n",
    "            # Read data into numpy arrays\n",
    "            precip = precip_data[:].T # shape (1800, 3600)\n",
    "            lat    = lat_data[:]      # shape (1800,) or whatever the correct shape is\n",
    "            lon    = lon_data[:]      # shape (3600,) or similar\n",
    "            \n",
    "            # Store the precipitation into the daily array\n",
    "            precip[precip < 0]        = np.nan\n",
    "            precip_daily[count, :, :] = np.squeeze(precip)\n",
    "    \n",
    "    # Create the time coordinate using the 30-min intervals for this day.\n",
    "    # dates[posi] is already a DatetimeIndex with length equal to the number of time steps.\n",
    "    time_coord = dates[posi]\n",
    "    \n",
    "    # Create an xarray DataArray for the daily precipitation data.\n",
    "    # The data shape is (time, lat, lon) so we set dims accordingly.\n",
    "    da = xr.DataArray(\n",
    "        precip_daily,\n",
    "        coords={\"time\": time_coord, \"lat\": lat, \"lon\": lon},\n",
    "        dims=[\"time\", \"lat\", \"lon\"]\n",
    "    )\n",
    "    \n",
    "    # Convert DataArray to a Dataset for saving.\n",
    "    ds = da.to_dataset(name=\"precipitation\")\n",
    "    \n",
    "    # Save to a NetCDF file.\n",
    "    out_filename = f\"IMERG_{day_str}.nc\"\n",
    "    ds.to_netcdf(out_filename)\n",
    "    os.system(\"/home/kaichiht/miniconda3/envs/cdoenv/bin/cdo ydaymean \"+out_filename+\" out.nc\")\n",
    "    os.system(\"/home/kaichiht/miniconda3/envs/cdoenv/bin/cdo setgrid,grid.txt out.nc temp.nc\")\n",
    "    os.system(\"sh regird.sh\")\n",
    "    os.system(\"mv out2.nc /data92/DATA/Satellite/IMERG_daily/\"+out_filename)\n",
    "\n",
    "    # os.system(\"mv out2.nc /data92/PeterChang/Paper2/IMERG_from_kai/\"+out_filename) \n",
    "    os.system(\"rm *.nc\")\n",
    "    \n",
    "    # os.system(\"/home/kaichiht/miniconda3/envs/cdoenv/bin/cdo ydaymean \"+out_filename+\" outfile.nc\")\n",
    "    \n",
    "    print(f\"Created daily NetCDF file: {out_filename}\")\n",
    "end_time = time.time()\n",
    "print(f\"Elapsed time: {end_time - start_time} seconds\")"
   ]
  },
  {
   "cell_type": "code",
   "execution_count": 4,
   "id": "6bf3438f-3c2e-4549-b514-f4b250875c83",
   "metadata": {},
   "outputs": [
    {
     "data": {
      "text/plain": [
       "'/data92/PeterChang/Paper2/IMERG_from_kai/IMERG_20000601.nc'"
      ]
     },
     "execution_count": 4,
     "metadata": {},
     "output_type": "execute_result"
    }
   ],
   "source": [
    "\"/data92/PeterChang/Paper2/IMERG_from_kai/\"+out_filename"
   ]
  },
  {
   "cell_type": "code",
   "execution_count": null,
   "id": "6a990f56-1d27-4d7d-9fe0-28e212d2f7c6",
   "metadata": {},
   "outputs": [],
   "source": []
  }
 ],
 "metadata": {
  "kernelspec": {
   "display_name": "Python 3 (ipykernel)",
   "language": "python",
   "name": "python3"
  },
  "language_info": {
   "codemirror_mode": {
    "name": "ipython",
    "version": 3
   },
   "file_extension": ".py",
   "mimetype": "text/x-python",
   "name": "python",
   "nbconvert_exporter": "python",
   "pygments_lexer": "ipython3",
   "version": "3.9.18"
  }
 },
 "nbformat": 4,
 "nbformat_minor": 5
}
